{
 "cells": [
  {
   "cell_type": "markdown",
   "metadata": {},
   "source": [
    "# Imports Section :"
   ]
  },
  {
   "cell_type": "code",
   "execution_count": 11,
   "metadata": {},
   "outputs": [],
   "source": [
    "from functions import *\n",
    "from shapes import *\n",
    "import algorithm1,algorithm2,algorithm3,algorithm4\n",
    "import constants as const\n",
    "from visualization import *\n",
    "import math"
   ]
  },
  {
   "cell_type": "code",
   "execution_count": 12,
   "metadata": {},
   "outputs": [],
   "source": [
    "# temp block\n",
    "import time"
   ]
  },
  {
   "cell_type": "markdown",
   "metadata": {},
   "source": [
    "# Low Resolution Computing :\n",
    "### Sampling level set to 1"
   ]
  },
  {
   "cell_type": "code",
   "execution_count": 13,
   "metadata": {},
   "outputs": [],
   "source": [
    "const.sampl=3"
   ]
  },
  {
   "cell_type": "markdown",
   "metadata": {},
   "source": [
    "## Initializing Shapes and Canvas for low resolution"
   ]
  },
  {
   "cell_type": "code",
   "execution_count": 14,
   "metadata": {},
   "outputs": [],
   "source": [
    "canvas = Canvas(200,100)\n",
    "shapes = [ \n",
    "            Square(20) ,\n",
    "            Rectangle(35,25) , \n",
    "            Circle(7) ,\n",
    "            Cone(17,20) ,\n",
    "            Cone(12,4),\n",
    "            Square(3)\n",
    "        ]"
   ]
  },
  {
   "cell_type": "markdown",
   "metadata": {},
   "source": [
    "## Pre-Processing :"
   ]
  },
  {
   "cell_type": "code",
   "execution_count": 15,
   "metadata": {},
   "outputs": [],
   "source": [
    "for shape in shapes:\n",
    "    shape.shapeMatrix = outline_with_shape(shape,1)"
   ]
  },
  {
   "cell_type": "markdown",
   "metadata": {},
   "source": [
    "## Low Resoultion Computation :"
   ]
  },
  {
   "cell_type": "code",
   "execution_count": 16,
   "metadata": {},
   "outputs": [
    {
     "name": "stdout",
     "output_type": "stream",
     "text": [
      "Starting algorithm1\n",
      "Completed placing cone\n",
      "Completed placing rectangle\n",
      "Completed placing square\n",
      "Completed placing cone\n",
      "Completed placing circle\n",
      "Completed placing square\n",
      "Lowlevel rendering completed\n"
     ]
    }
   ],
   "source": [
    "print(\"Starting algorithm1\")\n",
    "out,shapes = binaryFilter(algorithm4.run(canvas,shapes,log_=True,constCompute=75,returnOrder=True))\n",
    "print(\"Lowlevel rendering completed\")\n",
    "#arr2png(out).show()"
   ]
  },
  {
   "cell_type": "markdown",
   "metadata": {},
   "source": [
    "# High Resolution Rendering :"
   ]
  },
  {
   "cell_type": "markdown",
   "metadata": {},
   "source": [
    "### Higher Resolution is set"
   ]
  },
  {
   "cell_type": "code",
   "execution_count": 17,
   "metadata": {},
   "outputs": [],
   "source": [
    "const.sampl = 10"
   ]
  },
  {
   "cell_type": "markdown",
   "metadata": {},
   "source": [
    "### Below block just for name sake"
   ]
  },
  {
   "cell_type": "code",
   "execution_count": 18,
   "metadata": {},
   "outputs": [
    {
     "name": "stdout",
     "output_type": "stream",
     "text": [
      "[0.0, 0.0, 0]\n",
      "[50.67, 0.0, 0]\n",
      "[0.0, 28.0, 0]\n",
      "[80.0, 0.0, 0]\n",
      "[0.0, 40.0, 0]\n",
      "[0.0, 49.33, 0]\n"
     ]
    }
   ],
   "source": [
    "for shape in shapes:\n",
    "    print(shape.low_res_pos)"
   ]
  },
  {
   "cell_type": "markdown",
   "metadata": {},
   "source": [
    "## High Resolution Shape Place Function :"
   ]
  },
  {
   "cell_type": "code",
   "execution_count": 19,
   "metadata": {},
   "outputs": [],
   "source": [
    "def canvaPut(canvas,shapes):\n",
    "    canvas.regenerateSelf()\n",
    "    c = np.array(canvas.shapeMatrix)\n",
    "    cx,cy = np.shape(c)\n",
    "    for shape in shapes:\n",
    "        shape.regenerateSelf()\n",
    "        s = np.array(shape.shapeMatrix)\n",
    "        sx,sy = np.shape(s)\n",
    "        px , py , _ = shape.low_res_pos\n",
    "        px,py = math.floor(px/100*cx),math.floor(py/100*cy)\n",
    "        c[px:px+sx,py:py+sy] = s\n",
    "    return(c)"
   ]
  },
  {
   "cell_type": "code",
   "execution_count": 20,
   "metadata": {},
   "outputs": [],
   "source": [
    "out = canvaPut(canvas,shapes)\n",
    "arr2png(out).show()"
   ]
  }
 ],
 "metadata": {
  "interpreter": {
   "hash": "916dbcbb3f70747c44a77c7bcd40155683ae19c65e1c03b4aa3499c5328201f1"
  },
  "kernelspec": {
   "display_name": "Python 3 (ipykernel)",
   "language": "python",
   "name": "python3"
  },
  "language_info": {
   "codemirror_mode": {
    "name": "ipython",
    "version": 3
   },
   "file_extension": ".py",
   "mimetype": "text/x-python",
   "name": "python",
   "nbconvert_exporter": "python",
   "pygments_lexer": "ipython3",
   "version": "3.8.10"
  }
 },
 "nbformat": 4,
 "nbformat_minor": 2
}
